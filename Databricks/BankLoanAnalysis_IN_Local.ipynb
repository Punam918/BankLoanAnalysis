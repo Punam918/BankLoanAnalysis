{
 "cells": [
  {
   "cell_type": "code",
   "execution_count": 0,
   "metadata": {
    "application/vnd.databricks.v1+cell": {
     "cellMetadata": {
      "byteLimit": 2048000,
      "rowLimit": 10000
     },
     "inputWidgets": {},
     "nuid": "75228375-52dc-4ae7-b137-222e5113852b",
     "showTitle": false,
     "tableResultSettingsMap": {},
     "title": ""
    }
   },
   "outputs": [],
   "source": [
    "from pyspark.sql import SparkSession\n",
    "from pyspark.sql.functions import *"
   ]
  },
  {
   "cell_type": "code",
   "execution_count": 0,
   "metadata": {
    "application/vnd.databricks.v1+cell": {
     "cellMetadata": {
      "byteLimit": 2048000,
      "rowLimit": 10000
     },
     "inputWidgets": {},
     "nuid": "e2c1987c-97b2-42b9-9cde-ebf370049f68",
     "showTitle": false,
     "tableResultSettingsMap": {},
     "title": ""
    }
   },
   "outputs": [],
   "source": [
    "# Initialize Spark Session\n",
    "spark = SparkSession.builder \\\n",
    "    .appName(\"Financial Data Analysis\") \\\n",
    "    .getOrCreate()"
   ]
  },
  {
   "cell_type": "code",
   "execution_count": 0,
   "metadata": {
    "application/vnd.databricks.v1+cell": {
     "cellMetadata": {
      "byteLimit": 2048000,
      "rowLimit": 10000
     },
     "inputWidgets": {},
     "nuid": "34243683-4f1b-48ca-a128-07bbf02988e6",
     "showTitle": false,
     "tableResultSettingsMap": {},
     "title": ""
    }
   },
   "outputs": [],
   "source": [
    "file_path = \"dbfs:/FileStore/tables/financial_loan-2.csv\""
   ]
  },
  {
   "cell_type": "code",
   "execution_count": 0,
   "metadata": {
    "application/vnd.databricks.v1+cell": {
     "cellMetadata": {
      "byteLimit": 2048000,
      "rowLimit": 10000
     },
     "inputWidgets": {},
     "nuid": "8f4768a9-8730-412e-8e8d-c5f2b0041095",
     "showTitle": false,
     "tableResultSettingsMap": {},
     "title": ""
    }
   },
   "outputs": [
    {
     "name": "stdout",
     "output_type": "stream",
     "text": [
      "Out[11]: 'dbfs:/FileStore/tables/financial_loan-2.csv'"
     ]
    }
   ],
   "source": [
    "file_path"
   ]
  },
  {
   "cell_type": "code",
   "execution_count": 0,
   "metadata": {
    "application/vnd.databricks.v1+cell": {
     "cellMetadata": {
      "byteLimit": 2048000,
      "rowLimit": 10000
     },
     "inputWidgets": {},
     "nuid": "4a0c2f90-2e13-42df-ad8c-178c7d021e29",
     "showTitle": false,
     "tableResultSettingsMap": {},
     "title": ""
    }
   },
   "outputs": [],
   "source": [
    "df = spark.read.format('csv') \\\n",
    "    .option(\"header\", \"true\") \\\n",
    "    .option(\"inferSchema\", \"true\") \\\n",
    "    .load(file_path)"
   ]
  },
  {
   "cell_type": "code",
   "execution_count": 0,
   "metadata": {
    "application/vnd.databricks.v1+cell": {
     "cellMetadata": {
      "byteLimit": 2048000,
      "rowLimit": 10000
     },
     "inputWidgets": {},
     "nuid": "c3689437-501c-406c-bfc8-f277fad8b316",
     "showTitle": false,
     "tableResultSettingsMap": {},
     "title": ""
    }
   },
   "outputs": [
    {
     "name": "stdout",
     "output_type": "stream",
     "text": [
      "root\n",
      " |-- id: integer (nullable = true)\n",
      " |-- address_state: string (nullable = true)\n",
      " |-- application_type: string (nullable = true)\n",
      " |-- emp_length: string (nullable = true)\n",
      " |-- emp_title: string (nullable = true)\n",
      " |-- grade: string (nullable = true)\n",
      " |-- home_ownership: string (nullable = true)\n",
      " |-- issue_date: date (nullable = true)\n",
      " |-- last_credit_pull_date: date (nullable = true)\n",
      " |-- last_payment_date: date (nullable = true)\n",
      " |-- loan_status: string (nullable = true)\n",
      " |-- next_payment_date: date (nullable = true)\n",
      " |-- member_id: integer (nullable = true)\n",
      " |-- purpose: string (nullable = true)\n",
      " |-- sub_grade: string (nullable = true)\n",
      " |-- term: string (nullable = true)\n",
      " |-- verification_status: string (nullable = true)\n",
      " |-- annual_income: double (nullable = true)\n",
      " |-- dti: double (nullable = true)\n",
      " |-- installment: double (nullable = true)\n",
      " |-- int_rate: double (nullable = true)\n",
      " |-- loan_amount: integer (nullable = true)\n",
      " |-- total_acc: integer (nullable = true)\n",
      " |-- total_payment: integer (nullable = true)\n",
      "\n",
      "+-------+-----------------+-------------+----------------+----------+-------------------+-----+--------------+-----------+------------------+------------------+---------+----------+-------------------+-----------------+-------------------+------------------+-------------------+------------------+------------------+------------------+\n",
      "|summary|               id|address_state|application_type|emp_length|          emp_title|grade|home_ownership|loan_status|         member_id|           purpose|sub_grade|      term|verification_status|    annual_income|                dti|       installment|           int_rate|       loan_amount|         total_acc|     total_payment|\n",
      "+-------+-----------------+-------------+----------------+----------+-------------------+-----+--------------+-----------+------------------+------------------+---------+----------+-------------------+-----------------+-------------------+------------------+-------------------+------------------+------------------+------------------+\n",
      "|  count|            38576|        38576|           38576|     38576|              37143|38576|         38576|      38576|             38576|             38576|    38576|     38576|              38576|            38576|              38576|             38576|              38576|             38576|             38576|             38576|\n",
      "|   mean|681037.0613853172|         null|            null|      null|       1.38444858E8| null|          null|       null| 847651.5062992534|              null|     null|      null|               null|69644.54031003735|0.13327433119037757|326.86296505599296|0.12048831397760154|11296.066855039402| 22.13254355039403|12263.348532766488|\n",
      "| stddev|211324.5782175848|         null|            null|      null|2.768647731671112E8| null|          null|       null|266810.45685960277|              null|     null|      null|               null|64293.68104452422|0.06666155326867937| 209.0920003895776|0.03716412124646287| 7460.746022249924|11.392282074170563|  9051.10477658715|\n",
      "|    min|            54734|           AK|      INDIVIDUAL|    1 year|       old palm inc|    A|      MORTGAGE|Charged Off|             70699|Debt consolidation|       A1| 36 months|       Not Verified|           4000.0|                0.0|             15.69|             0.0542|               500|                 2|                34|\n",
      "|    max|          1077501|           WY|      INDIVIDUAL|  < 1 year| zozaya officiating|    G|          RENT| Fully Paid|           1314167|           wedding|       G5| 60 months|           Verified|        6000000.0|             0.2999|           1305.19|             0.2459|             35000|                90|             58564|\n",
      "+-------+-----------------+-------------+----------------+----------+-------------------+-----+--------------+-----------+------------------+------------------+---------+----------+-------------------+-----------------+-------------------+------------------+-------------------+------------------+------------------+------------------+\n",
      "\n"
     ]
    }
   ],
   "source": [
    "df.printSchema()\n",
    "df.describe().show()\n"
   ]
  },
  {
   "cell_type": "code",
   "execution_count": 0,
   "metadata": {
    "application/vnd.databricks.v1+cell": {
     "cellMetadata": {
      "byteLimit": 2048000,
      "rowLimit": 10000
     },
     "inputWidgets": {},
     "nuid": "d5eb8824-8de4-4f57-b1f1-80388c58c2ad",
     "showTitle": false,
     "tableResultSettingsMap": {},
     "title": ""
    }
   },
   "outputs": [],
   "source": [
    "df = df.na.drop()\n"
   ]
  },
  {
   "cell_type": "code",
   "execution_count": 0,
   "metadata": {
    "application/vnd.databricks.v1+cell": {
     "cellMetadata": {
      "byteLimit": 2048000,
      "rowLimit": 10000
     },
     "inputWidgets": {},
     "nuid": "f39da324-b049-403a-898a-8bcdcffea9cd",
     "showTitle": false,
     "tableResultSettingsMap": {},
     "title": ""
    }
   },
   "outputs": [],
   "source": [
    "from pyspark.sql.functions import to_date\n",
    "\n",
    "df = df.withColumn(\"issue_date\", to_date(df[\"issue_date\"], \"dd-MM-yyyy\"))\n",
    "df = df.withColumn(\"last_credit_pull_date\", to_date(df[\"last_credit_pull_date\"], \"dd-MM-yyyy\"))\n",
    "df = df.withColumn(\"last_payment_date\", to_date(df[\"last_payment_date\"], \"dd-MM-yyyy\"))\n",
    "df = df.withColumn(\"next_payment_date\", to_date(df[\"next_payment_date\"], \"dd-MM-yyyy\"))"
   ]
  },
  {
   "cell_type": "code",
   "execution_count": 0,
   "metadata": {
    "application/vnd.databricks.v1+cell": {
     "cellMetadata": {
      "byteLimit": 2048000,
      "rowLimit": 10000
     },
     "inputWidgets": {},
     "nuid": "4a2ae8cf-4801-4fb3-a655-fb395cc31743",
     "showTitle": false,
     "tableResultSettingsMap": {},
     "title": ""
    }
   },
   "outputs": [
    {
     "name": "stdout",
     "output_type": "stream",
     "text": [
      "+-------------+------------------+\n",
      "|address_state|          avg_loan|\n",
      "+-------------+------------------+\n",
      "|           AZ|11041.677135678392|\n",
      "|           SC|10858.484162895928|\n",
      "|           LA|10648.832923832924|\n",
      "|           MN| 10553.70855148342|\n",
      "|           NJ|11852.796706416808|\n",
      "|           DC|12392.142857142857|\n",
      "|           OR|10908.851674641148|\n",
      "|           VA| 11634.41265060241|\n",
      "|           RI| 9677.617801047121|\n",
      "|           KY| 10990.90909090909|\n",
      "|           WY|11275.316455696202|\n",
      "|           NH|11898.051948051949|\n",
      "|           MI|11412.481203007519|\n",
      "|           NV|10916.109913793103|\n",
      "|           WI| 11271.92671394799|\n",
      "|           ID|            6950.0|\n",
      "|           CA|11333.729619565218|\n",
      "|           CT| 11517.80523255814|\n",
      "|           NE|            6340.0|\n",
      "|           MT|10033.219178082192|\n",
      "+-------------+------------------+\n",
      "only showing top 20 rows\n",
      "\n"
     ]
    }
   ],
   "source": [
    "from pyspark.sql.functions import avg\n",
    "df.groupBy(\"address_state\").agg(avg(\"loan_amount\").alias(\"avg_loan\")).show()\n"
   ]
  },
  {
   "cell_type": "code",
   "execution_count": 0,
   "metadata": {
    "application/vnd.databricks.v1+cell": {
     "cellMetadata": {
      "byteLimit": 2048000,
      "rowLimit": 10000
     },
     "inputWidgets": {},
     "nuid": "f4d2154a-9209-4e46-a989-10a2af357fa9",
     "showTitle": false,
     "tableResultSettingsMap": {},
     "title": ""
    }
   },
   "outputs": [
    {
     "name": "stdout",
     "output_type": "stream",
     "text": [
      "+-----+-------------------+\n",
      "|grade|       avg_int_rate|\n",
      "+-----+-------------------+\n",
      "|    G|0.21403145695364234|\n",
      "|    F|0.19734083080040535|\n",
      "|    E|0.17700876020786938|\n",
      "|    D| 0.1571120951619351|\n",
      "|    C|0.13550794067463046|\n",
      "|    B|0.11027036476868317|\n",
      "|    A|0.07347008280460453|\n",
      "+-----+-------------------+\n",
      "\n"
     ]
    }
   ],
   "source": [
    "from pyspark.sql.functions import col\n",
    "df.select(\"grade\", \"int_rate\").groupBy(\"grade\").agg(avg(\"int_rate\").alias(\"avg_int_rate\")) \\\n",
    "  .orderBy(col(\"avg_int_rate\").desc()).show()\n"
   ]
  },
  {
   "cell_type": "code",
   "execution_count": 0,
   "metadata": {
    "application/vnd.databricks.v1+cell": {
     "cellMetadata": {
      "byteLimit": 2048000,
      "rowLimit": 10000
     },
     "inputWidgets": {},
     "nuid": "5797a3dd-8608-4085-95e5-cb9b4705b0de",
     "showTitle": false,
     "tableResultSettingsMap": {},
     "title": ""
    }
   },
   "outputs": [
    {
     "name": "stdout",
     "output_type": "stream",
     "text": [
      "+-------------------+-----+\n",
      "|verification_status|count|\n",
      "+-------------------+-----+\n",
      "|           Verified|11937|\n",
      "|    Source Verified| 9468|\n",
      "|       Not Verified|15738|\n",
      "+-------------------+-----+\n",
      "\n"
     ]
    }
   ],
   "source": [
    "df.groupBy(\"verification_status\").count().show()"
   ]
  },
  {
   "cell_type": "code",
   "execution_count": 0,
   "metadata": {
    "application/vnd.databricks.v1+cell": {
     "cellMetadata": {
      "byteLimit": 2048000,
      "rowLimit": 10000
     },
     "inputWidgets": {},
     "nuid": "abbbad1a-545f-4aed-afb0-7537b694a9c4",
     "showTitle": false,
     "tableResultSettingsMap": {},
     "title": ""
    }
   },
   "outputs": [
    {
     "name": "stdout",
     "output_type": "stream",
     "text": [
      "+---------+-------------+------+\n",
      "|member_id|annual_income|   dti|\n",
      "+---------+-------------+------+\n",
      "|   998477|      51500.0|0.2999|\n",
      "|   954624|      44400.0|0.2995|\n",
      "|  1041264|      52000.0|0.2993|\n",
      "|   931909|      35004.0|0.2993|\n",
      "|   914220|      33000.0|0.2993|\n",
      "|  1044119|      75000.0|0.2992|\n",
      "|   934905|      34224.0|0.2989|\n",
      "|  1066306|      20000.0|0.2988|\n",
      "|   965506|      50000.0|0.2986|\n",
      "|  1302472|      41000.0|0.2985|\n",
      "+---------+-------------+------+\n",
      "only showing top 10 rows\n",
      "\n"
     ]
    }
   ],
   "source": [
    "df.orderBy(col(\"dti\").desc()).select(\"member_id\", \"annual_income\", \"dti\").show(10)"
   ]
  },
  {
   "cell_type": "code",
   "execution_count": 0,
   "metadata": {
    "application/vnd.databricks.v1+cell": {
     "cellMetadata": {
      "byteLimit": 2048000,
      "rowLimit": 10000
     },
     "inputWidgets": {},
     "nuid": "fa56b67c-d9ee-4dbe-96ab-24d15b7b9b4c",
     "showTitle": false,
     "tableResultSettingsMap": {},
     "title": ""
    }
   },
   "outputs": [
    {
     "name": "stdout",
     "output_type": "stream",
     "text": [
      "+---+-------------+----------------+----------+---------+-----+--------------+----------+---------------------+-----------------+-----------+-----------------+---------+-------+---------+----+-------------------+-------------+---+-----------+--------+-----------+---------+-------------+\n",
      "| id|address_state|application_type|emp_length|emp_title|grade|home_ownership|issue_date|last_credit_pull_date|last_payment_date|loan_status|next_payment_date|member_id|purpose|sub_grade|term|verification_status|annual_income|dti|installment|int_rate|loan_amount|total_acc|total_payment|\n",
      "+---+-------------+----------------+----------+---------+-----+--------------+----------+---------------------+-----------------+-----------+-----------------+---------+-------+---------+----+-------------------+-------------+---+-----------+--------+-----------+---------+-------------+\n",
      "+---+-------------+----------------+----------+---------+-----+--------------+----------+---------------------+-----------------+-----------+-----------------+---------+-------+---------+----+-------------------+-------------+---+-----------+--------+-----------+---------+-------------+\n",
      "\n"
     ]
    }
   ],
   "source": [
    "df.filter((col(\"int_rate\") > 0.2) & (col(\"dti\") > 0.4)).show()"
   ]
  },
  {
   "cell_type": "code",
   "execution_count": 0,
   "metadata": {
    "application/vnd.databricks.v1+cell": {
     "cellMetadata": {
      "byteLimit": 2048000,
      "rowLimit": 10000
     },
     "inputWidgets": {},
     "nuid": "a547f5e9-2bd1-48b0-bd37-386e6a0063a9",
     "showTitle": false,
     "tableResultSettingsMap": {},
     "title": ""
    }
   },
   "outputs": [
    {
     "name": "stdout",
     "output_type": "stream",
     "text": [
      "+------------------+\n",
      "|          int_rate|\n",
      "+------------------+\n",
      "|             15.27|\n",
      "|             18.64|\n",
      "|15.959999999999999|\n",
      "|             10.65|\n",
      "|              6.03|\n",
      "+------------------+\n",
      "only showing top 5 rows\n",
      "\n"
     ]
    }
   ],
   "source": [
    "df = df.withColumn(\"int_rate\", (col(\"int_rate\") * 100).alias(\"int_rate_percentage\"))\n",
    "df.select(\"int_rate\").show(5)"
   ]
  },
  {
   "cell_type": "code",
   "execution_count": 0,
   "metadata": {
    "application/vnd.databricks.v1+cell": {
     "cellMetadata": {
      "byteLimit": 2048000,
      "rowLimit": 10000
     },
     "inputWidgets": {},
     "nuid": "83574a76-2468-46aa-b703-749be634a3f3",
     "showTitle": false,
     "tableResultSettingsMap": {},
     "title": ""
    }
   },
   "outputs": [
    {
     "name": "stdout",
     "output_type": "stream",
     "text": [
      "+----+\n",
      "|term|\n",
      "+----+\n",
      "|  60|\n",
      "|  36|\n",
      "+----+\n",
      "\n"
     ]
    }
   ],
   "source": [
    "df = df.withColumn(\"term\", regexp_replace(col(\"term\"), \" months\", \"\").cast(\"int\"))\n",
    "df.select(\"term\").distinct().show()"
   ]
  },
  {
   "cell_type": "code",
   "execution_count": 0,
   "metadata": {
    "application/vnd.databricks.v1+cell": {
     "cellMetadata": {
      "byteLimit": 2048000,
      "rowLimit": 10000
     },
     "inputWidgets": {},
     "nuid": "1f9cfa83-6c9a-44cd-a21d-13afaabd7edf",
     "showTitle": false,
     "tableResultSettingsMap": {},
     "title": ""
    }
   },
   "outputs": [
    {
     "name": "stdout",
     "output_type": "stream",
     "text": [
      "+-------------------+\n",
      "|     loan_to_income|\n",
      "+-------------------+\n",
      "|0.08333333333333333|\n",
      "|             0.0625|\n",
      "|               0.24|\n",
      "|0.10714285714285714|\n",
      "|0.04216867469879518|\n",
      "+-------------------+\n",
      "only showing top 5 rows\n",
      "\n"
     ]
    }
   ],
   "source": [
    "df = df.withColumn(\"loan_to_income\", col(\"loan_amount\") / col(\"annual_income\"))\n",
    "df.select(\"loan_to_income\").show(5)"
   ]
  },
  {
   "cell_type": "code",
   "execution_count": 0,
   "metadata": {
    "application/vnd.databricks.v1+cell": {
     "cellMetadata": {
      "byteLimit": 2048000,
      "rowLimit": 10000
     },
     "inputWidgets": {},
     "nuid": "1e1bffeb-5149-4dc7-aab2-be832544c6da",
     "showTitle": false,
     "tableResultSettingsMap": {},
     "title": ""
    }
   },
   "outputs": [
    {
     "name": "stdout",
     "output_type": "stream",
     "text": [
      "+-----------+------------------+------+----------+\n",
      "|loan_amount|          int_rate|   dti|risk_score|\n",
      "+-----------+------------------+------+----------+\n",
      "|       2500|             15.27|  0.01|  Low Risk|\n",
      "|       3000|             18.64|0.0535|  Low Risk|\n",
      "|      12000|15.959999999999999|0.2088|  Low Risk|\n",
      "|       4500|             10.65| 0.054|  Low Risk|\n",
      "|       3500|              6.03|0.0231|  Low Risk|\n",
      "|       8000|14.649999999999999| 0.126|  Low Risk|\n",
      "|       6000|             14.27|0.2453|  Low Risk|\n",
      "|       5500|               7.9|0.0665|  Low Risk|\n",
      "|      24000|               8.9|0.0394|  Low Risk|\n",
      "|       4125|12.690000000000001|0.1773|  Low Risk|\n",
      "+-----------+------------------+------+----------+\n",
      "only showing top 10 rows\n",
      "\n"
     ]
    }
   ],
   "source": [
    "from pyspark.sql.functions import when\n",
    "\n",
    "df = df.withColumn(\n",
    "    \"risk_score\",\n",
    "    when((col(\"int_rate\") > 15) & (col(\"dti\") > 0.4) & (col(\"loan_amount\") > 50000), \"High Risk\")\n",
    "    .when((col(\"int_rate\") > 10) & (col(\"dti\") > 0.3), \"Medium Risk\")\n",
    "    .otherwise(\"Low Risk\")\n",
    ")\n",
    "\n",
    "df.select(\"loan_amount\", \"int_rate\", \"dti\", \"risk_score\").show(10)\n"
   ]
  },
  {
   "cell_type": "code",
   "execution_count": 0,
   "metadata": {
    "application/vnd.databricks.v1+cell": {
     "cellMetadata": {
      "byteLimit": 2048000,
      "rowLimit": 10000
     },
     "inputWidgets": {},
     "nuid": "d4deb5ac-3932-4739-9384-c3f849ef7d0d",
     "showTitle": false,
     "tableResultSettingsMap": {},
     "title": ""
    }
   },
   "outputs": [
    {
     "name": "stdout",
     "output_type": "stream",
     "text": [
      "+-------------+----------------+\n",
      "|address_state|sum(loan_amount)|\n",
      "+-------------+----------------+\n",
      "|           CA|        75074625|\n",
      "|           NY|        40637625|\n",
      "|           TX|        29795825|\n",
      "|           FL|        28942775|\n",
      "|           NJ|        20872775|\n",
      "+-------------+----------------+\n",
      "only showing top 5 rows\n",
      "\n"
     ]
    }
   ],
   "source": [
    "df.groupBy(\"address_state\") \\\n",
    "  .agg({\"loan_amount\": \"sum\"}) \\\n",
    "  .orderBy(col(\"sum(loan_amount)\").desc()) \\\n",
    "  .show(5)\n"
   ]
  },
  {
   "cell_type": "code",
   "execution_count": 0,
   "metadata": {
    "application/vnd.databricks.v1+cell": {
     "cellMetadata": {
      "byteLimit": 2048000,
      "rowLimit": 10000
     },
     "inputWidgets": {},
     "nuid": "83400f3d-3233-48c6-8111-0d317065e7b0",
     "showTitle": false,
     "tableResultSettingsMap": {},
     "title": ""
    }
   },
   "outputs": [
    {
     "name": "stdout",
     "output_type": "stream",
     "text": [
      "+----------+-------------------+\n",
      "|emp_length|emp_length_category|\n",
      "+----------+-------------------+\n",
      "|   8 years|          2-9 Years|\n",
      "|   3 years|          2-9 Years|\n",
      "|  < 1 year|   Less than 1 Year|\n",
      "|   4 years|          2-9 Years|\n",
      "|   6 years|          2-9 Years|\n",
      "| 10+ years|          10+ Years|\n",
      "|   5 years|          2-9 Years|\n",
      "|    1 year|             1 Year|\n",
      "|   9 years|          2-9 Years|\n",
      "|   2 years|          2-9 Years|\n",
      "|   7 years|          2-9 Years|\n",
      "+----------+-------------------+\n",
      "\n"
     ]
    }
   ],
   "source": [
    "df = df.withColumn(\n",
    "    \"emp_length_category\",\n",
    "    when(col(\"emp_length\").like(\"%10+%\"), \"10+ Years\")\n",
    "    .when(col(\"emp_length\").like(\"%< 1%\"), \"Less than 1 Year\")\n",
    "    .when(col(\"emp_length\").like(\"%1 year%\"), \"1 Year\")\n",
    "    .otherwise(\"2-9 Years\")\n",
    ")\n",
    "\n",
    "df.select(\"emp_length\", \"emp_length_category\").distinct().show()\n"
   ]
  },
  {
   "cell_type": "code",
   "execution_count": 0,
   "metadata": {
    "application/vnd.databricks.v1+cell": {
     "cellMetadata": {
      "byteLimit": 2048000,
      "rowLimit": 10000
     },
     "inputWidgets": {},
     "nuid": "c4062e37-e9a6-46bb-a6f8-556d7f8d4222",
     "showTitle": false,
     "tableResultSettingsMap": {},
     "title": ""
    }
   },
   "outputs": [],
   "source": [
    "output_path = \"dbfs:/FileStore/Financialdataprocessed.csv\"\n",
    "df.write.format('csv') \\\n",
    "    .option(\"header\", \"true\") \\\n",
    "    .save(output_path)\n"
   ]
  }
 ],
 "metadata": {
  "application/vnd.databricks.v1+notebook": {
   "computePreferences": null,
   "dashboards": [],
   "environmentMetadata": {
    "base_environment": "",
    "client": "1"
   },
   "language": "python",
   "notebookMetadata": {
    "pythonIndentUnit": 4
   },
   "notebookName": "BankLoanAnalysis_IN_Local",
   "widgets": {}
  },
  "language_info": {
   "name": "python"
  }
 },
 "nbformat": 4,
 "nbformat_minor": 0
}
